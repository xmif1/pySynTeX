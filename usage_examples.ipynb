{
 "cells": [
  {
   "cell_type": "code",
   "execution_count": 1,
   "id": "bc60f759",
   "metadata": {},
   "outputs": [],
   "source": [
    "from pySynTeX import equation"
   ]
  },
  {
   "cell_type": "code",
   "execution_count": 2,
   "id": "e9a1394e",
   "metadata": {},
   "outputs": [],
   "source": [
    "@equation(r\"\\sum\\limits_{i = 0}^{n} a \\cdot r^i\", n=\"n\", init=\"a\", ratio=\"r\")\n",
    "def geometric_progression(n, init, ratio):\n",
    "    total = 0\n",
    "\n",
    "    for i in range(n + 1):\n",
    "        total += ratio ** i\n",
    "\n",
    "    return init * total"
   ]
  },
  {
   "cell_type": "code",
   "execution_count": 3,
   "id": "e2ecb477",
   "metadata": {},
   "outputs": [
    {
     "data": {
      "text/latex": [
       "$\\sum\\limits_{i = 0}^{n} a \\cdot r^i = \\sum\\limits_{i = 0}^{9} 2 \\cdot 3^i = 59048$"
      ],
      "text/plain": [
       "<IPython.core.display.Latex object>"
      ]
     },
     "metadata": {},
     "output_type": "display_data"
    }
   ],
   "source": [
    "geometric_progression.syntex() + \" = \" + geometric_progression.syntex_eval(\" = {}\", 9, 2, 3)"
   ]
  },
  {
   "cell_type": "code",
   "execution_count": null,
   "id": "12ae6a51",
   "metadata": {},
   "outputs": [],
   "source": []
  }
 ],
 "metadata": {
  "kernelspec": {
   "display_name": "Python 3 (ipykernel)",
   "language": "python",
   "name": "python3"
  },
  "language_info": {
   "codemirror_mode": {
    "name": "ipython",
    "version": 3
   },
   "file_extension": ".py",
   "mimetype": "text/x-python",
   "name": "python",
   "nbconvert_exporter": "python",
   "pygments_lexer": "ipython3",
   "version": "3.9.13"
  }
 },
 "nbformat": 4,
 "nbformat_minor": 5
}
